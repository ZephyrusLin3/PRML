{
 "cells": [
  {
   "cell_type": "markdown",
   "id": "8370ae79",
   "metadata": {},
   "source": [
    "**请填写你的姓名与学号**"
   ]
  },
  {
   "cell_type": "code",
   "execution_count": 92,
   "id": "2609cb62",
   "metadata": {},
   "outputs": [],
   "source": [
    "name=\"朱永山\"\n",
    "student_id=\"23009200687\""
   ]
  },
  {
   "cell_type": "markdown",
   "id": "0b52ff61",
   "metadata": {},
   "source": [
    "# 逻辑回归模型编程练习"
   ]
  },
  {
   "cell_type": "code",
   "execution_count": 93,
   "id": "f1114ee7",
   "metadata": {
    "collapsed": false,
    "jupyter": {
     "outputs_hidden": false
    }
   },
   "outputs": [
    {
     "name": "stdout",
     "output_type": "stream",
     "text": [
      "LR_data1.txt              LR_data2_boundary.png     logistic-regression.ipynb\n",
      "LR_data1_visual.png       LR_data2_visual.png\n",
      "LR_data2.txt              environment.yml\n"
     ]
    }
   ],
   "source": [
    "# 查看当前挂载的数据集目录\n",
    "!ls\n",
    "#!find . -type f -name LR_data1.txt\n",
    "#!find . -type f -name LR_data2.txt"
   ]
  },
  {
   "cell_type": "markdown",
   "id": "5961686f",
   "metadata": {
    "collapsed": false,
    "jupyter": {
     "outputs_hidden": false
    }
   },
   "source": [
    "本次作业的目的是建立一个逻辑回归模型，用于预测一个学生是否应该被大学录取。\n",
    "\n",
    "简单起见，大学通过**两次考试的成绩来确定一个学生是否应该录取**。你有以前数届考生的成绩，可以做为训练集学习逻辑回归模型。每个训练样本包括了考生两次考试的成绩和对应的录取决定。\n",
    "\n",
    "你的任务是建立一个分类模型，根据两次考试的成绩来估计考生被录取的概率。\n",
    "本次实验需要实现的函数\n",
    "- `plot_data` 绘制二维的分类数据。\n",
    "- `sigmoid`函数\n",
    "- `cost_function` 逻辑回归的代价函数\n",
    "- `cost_gradient` 逻辑回归的代价函数的梯度，无正则化\n",
    "- `predict` 逻辑回归的预测函数\n",
    "- `cost_function_reg` 逻辑回归带正则化项的代价函数\n",
    "- `cost_gradient_reg` 逻辑回归的代价函数的梯度，带正则化"
   ]
  },
  {
   "cell_type": "code",
   "execution_count": 94,
   "id": "14374260",
   "metadata": {
    "collapsed": false,
    "jupyter": {
     "outputs_hidden": false
    }
   },
   "outputs": [],
   "source": [
    "# 导入需要用到的库\n",
    "import numpy as np\n",
    "import scipy.optimize as op\n",
    "import matplotlib.pyplot as plt"
   ]
  },
  {
   "cell_type": "markdown",
   "id": "b0f12b1b",
   "metadata": {
    "collapsed": false,
    "jupyter": {
     "outputs_hidden": false
    }
   },
   "source": [
    "## 数据可视化\n",
    "在实现机器学习算法前，可视化的显示数据以观察其规律通常是有益的。本次作业中，你需要实现 `plot_data` 函数，用于绘制所给数据的散点图。你绘制的图像应如下图所示，两坐标轴分别为两次考试的成绩，正负样本分别使用不同的标记显示。"
   ]
  },
  {
   "cell_type": "code",
   "execution_count": 95,
   "id": "379dd3f0",
   "metadata": {
    "collapsed": false,
    "jupyter": {
     "outputs_hidden": false
    }
   },
   "outputs": [],
   "source": [
    "def plot_data(X, y):\n",
    "    \"\"\"This function plots the data points X and y into a new figure.\n",
    "    It plots the data points with red + for the positive examples,\n",
    "    and blue o the negative examples. X is assumed to be a Mx2 matrix.\n",
    "    \n",
    "    X: shape:nx2 \n",
    "    y: shape:nx1\n",
    "    \"\"\"\n",
    "\n",
    "    plt.figure()\n",
    "    # ====================== YOUR CODE HERE ======================\n",
    "    admitted_index = []\n",
    "    for i in range(y.size):\n",
    "        if y[i] == 1:\n",
    "            admitted_index.append(i)\n",
    "\n",
    "    not_admitted_index = [i for i in range(y.size) if i not in admitted_index]\n",
    "\n",
    "    plt.scatter(X[admitted_index, 0], X[admitted_index, 1], color='red', marker='+', label='Admitted')\n",
    "    plt.scatter(X[not_admitted_index, 0], X[not_admitted_index, 1], color='darkblue', marker='o', label='Not admitted')\n",
    "    # ============================================================\n",
    "\n",
    "    plt.xlabel(\"Exam 1 Score\")\n",
    "    plt.ylabel(\"Exam 2 Score\")\n",
    "    plt.legend(loc='upper right')"
   ]
  },
  {
   "cell_type": "markdown",
   "id": "1036a76e",
   "metadata": {
    "collapsed": false,
    "jupyter": {
     "outputs_hidden": false
    }
   },
   "source": [
    "调用 `plot_data`，可视化第一个文件`LR_data1`数据。绘制的图像如下：‘\n",
    "\n",
    "![data1](LR_data1_visual.png)"
   ]
  },
  {
   "cell_type": "code",
   "execution_count": 96,
   "id": "3649f2fb",
   "metadata": {
    "collapsed": false,
    "jupyter": {
     "outputs_hidden": false
    }
   },
   "outputs": [
    {
     "data": {
      "image/png": "[encoded data removed]",
      "text/plain": [
       "<Figure size 640x480 with 1 Axes>"
      ]
     },
     "metadata": {},
     "output_type": "display_data"
    }
   ],
   "source": [
    "# 加载数据 注意使用 !ls 或 !find 命令确定数据文件所在的目录 dataXXXX 。\n",
    "data = np.loadtxt(\"LR_data1.txt\", delimiter=\",\")\n",
    "X, y = data[:, :2], data[:, 2]\n",
    "\n",
    "# 可视化数据\n",
    "# ====================== YOUR CODE HERE ================\n",
    "y = y.reshape(100,1)\n",
    "plot_data(X, y)\n",
    "# ======================================================\n",
    "plt.show()"
   ]
  },
  {
   "cell_type": "code",
   "execution_count": null,
   "id": "d34785d8-229c-4557-ba41-11b6294f8693",
   "metadata": {},
   "outputs": [],
   "source": []
  },
  {
   "cell_type": "markdown",
   "id": "d3211f0c",
   "metadata": {
    "collapsed": false,
    "jupyter": {
     "outputs_hidden": false
    }
   },
   "source": [
    "绘制分类面"
   ]
  },
  {
   "cell_type": "code",
   "execution_count": 97,
   "id": "e6576690",
   "metadata": {
    "collapsed": false,
    "jupyter": {
     "outputs_hidden": false
    }
   },
   "outputs": [],
   "source": [
    "def plot_decision_boundary(theta, X, y):\n",
    "    \"\"\"绘制分类面。\"\"\"\n",
    "    plot_data(X[:, 1:], y)\n",
    "\n",
    "    _, d = X.shape\n",
    "\n",
    "    if d <= 3:\n",
    "        plot_x = np.array([np.min(X[:, 1])-2, np.max(X[:, 1])+2])\n",
    "        plot_y = -1.0 / theta[2]*(theta[1]*plot_x + theta[0])\n",
    "        plt.plot(plot_x, plot_y, 'm-', label=\"Decision Boundary\")\n",
    "\n",
    "        plt.xlim([30, 100])\n",
    "        plt.ylim([30, 100])\n",
    "    else:\n",
    "        n_grid = 50\n",
    "        u = np.linspace(-1, 1.5, n_grid)\n",
    "        v = np.linspace(-1, 1.5, n_grid)\n",
    "\n",
    "        z = np.zeros((n_grid, n_grid))\n",
    "\n",
    "        for i in range(n_grid):\n",
    "            for j in range(n_grid):\n",
    "                uu, vv = np.array([u[i]]), np.array([v[j]])\n",
    "                z[i, j] = np.dot(map_feature(uu, vv), theta)\n",
    "\n",
    "        z = z.T\n",
    "\n",
    "        CS = plt.contour(u, v, z, linewidths=2, levels=[0.0], colors=['m'])\n",
    "        CS.collections[0].set_label('Decision boundary')\n",
    "\n",
    "    plt.legend()"
   ]
  },
  {
   "cell_type": "markdown",
   "id": "7add37a4",
   "metadata": {
    "collapsed": false,
    "jupyter": {
     "outputs_hidden": false
    }
   },
   "source": [
    "## 热身练习：Sigmoid函数\n",
    "\n",
    "逻辑回归的假设模型为：\n",
    "$$h_{\\theta}(x) = g(\\theta^{\\mathrm{T}} x)$$\t\n",
    "\n",
    "其中函数 $g(\\cdot)$ 是Sigmoid函数，定义为：\n",
    "$$g(z) = \\frac{1}{1+\\exp(-z)}$$\n",
    "\n",
    "本练习中第一步需要你实现 Sigmoid 函数。在实现该函数后，你需要确认其功能正确。对于输入为矩阵和向量的情况，你实现的函数应当对每一个元素执行Sigmoid 函数。"
   ]
  },
  {
   "cell_type": "code",
   "execution_count": 116,
   "id": "3104399c",
   "metadata": {
    "collapsed": false,
    "jupyter": {
     "outputs_hidden": false
    }
   },
   "outputs": [],
   "source": [
    "def sigmoid(z):\n",
    "    \"\"\"Compute sigmoid function\"\"\"\n",
    "\n",
    "    z = np.asarray(z)\n",
    "    g = np.zeros_like(z)\n",
    "\n",
    "    # ====================== YOUR CODE HERE ======================\n",
    "    g = 1 / (1 + np.exp(-z))\n",
    "    # ============================================================\n",
    "\n",
    "    return g"
   ]
  },
  {
   "cell_type": "code",
   "execution_count": 117,
   "id": "fbb8368c",
   "metadata": {
    "collapsed": false,
    "jupyter": {
     "outputs_hidden": false
    }
   },
   "outputs": [
    {
     "name": "stdout",
     "output_type": "stream",
     "text": [
      "Value of sigmoid at [-10, -5, 0, 5, 10] are:\n",
      " [4.53978687e-05 6.69285092e-03 5.00000000e-01 9.93307149e-01\n",
      " 9.99954602e-01]\n"
     ]
    }
   ],
   "source": [
    "# 测试 sigmoid 函数\n",
    "z = np.array([-10.0, -5.0, 0.0, 5.0, 10.0])\n",
    "g = sigmoid(z)\n",
    "print(\"Value of sigmoid at [-10, -5, 0, 5, 10] are:\\n\", g)"
   ]
  },
  {
   "cell_type": "markdown",
   "id": "9be951aa",
   "metadata": {
    "collapsed": false,
    "jupyter": {
     "outputs_hidden": false
    }
   },
   "source": [
    "## 代价函数与梯度\n",
    "现在你需要实现逻辑回归的代价函数及其梯度。补充完整`cost_function`函数，使其返回正确的代价。补充完整`cost_gradient`函数，使其返回正确的梯度。\n",
    "\n",
    "逻辑回归的代价函数为:\n",
    "$$J(\\theta) = \\frac{1}{m} \\sum_{i=1}^{m} \\Big[ -y^{(i)} \\log \\big( h_{\\theta}(x^{(i)}) \\big) - (1-y^{(i)}) \\log \\big( 1-h_{\\theta}(x^{(i)}) \\big) \\Big]$$\n",
    "\n",
    "对应的梯度向量各分量为\n",
    "$$\\frac{\\partial J(\\theta)}{\\partial \\theta_{j}} = \\frac{1}{m}\\sum_{i = 1}^{m}(h_{\\theta}(x^{(i)})-y^{(i)})x_j^{(i)})$$"
   ]
  },
  {
   "cell_type": "code",
   "execution_count": 118,
   "id": "3c51cba3",
   "metadata": {
    "collapsed": false,
    "jupyter": {
     "outputs_hidden": false
    }
   },
   "outputs": [],
   "source": [
    "def cost_function(theta, X, y):\n",
    "    \"\"\"逻辑回归的代价函数，无正则项。\"\"\"\n",
    "\n",
    "    J = 0.0\n",
    "    # ====================== YOUR CODE HERE ======================\n",
    "    h=sigmoid(np.matmul(X, theta))\n",
    "    J = (-1 / X.shape[0]) * np.sum(y * np.log(h) + (1 - y) * np.log(1 - h))\n",
    "    # ============================================================\n",
    "\n",
    "    return J"
   ]
  },
  {
   "cell_type": "code",
   "execution_count": 119,
   "id": "198d77fc",
   "metadata": {
    "collapsed": false,
    "jupyter": {
     "outputs_hidden": false
    }
   },
   "outputs": [],
   "source": [
    "def cost_gradient(theta, X, y):\n",
    "    \"\"\"逻辑回归的代价函数的梯度，无正则项。\"\"\"\n",
    "    m = 1.0*len(y)\n",
    "    grad = np.zeros_like(theta)\n",
    "    # ====================== YOUR CODE HERE ======================\n",
    "    h = sigmoid(np.matmul(X, theta))\n",
    "    g = h - y\n",
    "    grad = np.matmul(X.T, g) / m\n",
    "    # ============================================================\n",
    "\n",
    "    return grad"
   ]
  },
  {
   "cell_type": "markdown",
   "id": "ed6a78ab",
   "metadata": {
    "collapsed": false,
    "jupyter": {
     "outputs_hidden": false
    }
   },
   "source": [
    "## 预测函数\n",
    "在获得模型参数后，你就可以使用模型预测一个学生能够被大学录取。如果某学生考试一的 成绩为45，考试二的成绩为85，你应该能够得到其录取概率约为0.776。\n",
    "\n",
    "你需要完成 `predict` 函数，该函数输出“1”或“0”。通过计算分类正确的样本百分数， 我们可以得到训练集上的正确率。"
   ]
  },
  {
   "cell_type": "code",
   "execution_count": 121,
   "id": "0cf30096",
   "metadata": {
    "collapsed": false,
    "jupyter": {
     "outputs_hidden": false
    }
   },
   "outputs": [],
   "source": [
    "def predict(theta, X):\n",
    "    \"\"\"Predict whether the label is 0 or 1\n",
    "    using learned logistic regression parameters theta.\n",
    "    input： theta：model's parameters\n",
    "            X: input samples\n",
    "    output：0 or 1\n",
    "    \"\"\"\n",
    "    m, _ = X.shape\n",
    "    pred = np.zeros((m, 1), dtype=bool)\n",
    "\n",
    "    # ====================== YOUR CODE HERE ======================\n",
    "    z = np.matmul(X, theta)\n",
    "    h = sigmoid(z)\n",
    "    pred = (h >= 0.5).astype(int).squeeze()\n",
    "    # ============================================================\n",
    "\n",
    "    return pred"
   ]
  },
  {
   "cell_type": "markdown",
   "id": "455852be",
   "metadata": {
    "collapsed": false,
    "jupyter": {
     "outputs_hidden": false
    }
   },
   "source": [
    "## 使用`scipy.optimize.fmin_cg`学习模型参数\n",
    "\n",
    "在本次作业中，希望你使用 `scipy.optimize.fmin_cg` 函数实现代价函数 $J(\\theta)$ 的优化，得到最佳参数 $\\theta^{*}$ 。\n",
    "\n",
    "使用该优化函数的代码已经在程序中实现，调用方式示例如下：\n",
    "```\n",
    "ret = op.fmin_cg(cost_function,\n",
    "                 theta,\n",
    "                 fprime=cost_gradient,\n",
    "                 args=(X, y),\n",
    "                 maxiter=400,\n",
    "                 full_output=True)\n",
    "theta_opt, cost_min, _, _, _ = ret\n",
    "\n",
    "```\n",
    "其中`cost_function`为代价函数， `theta` 为需要优化的参数初始值， `fprime=cost_gradient` 给出了代价函数的梯度， `args=(X, y)` 给出了需要优化的函数与对应的梯度计算所需要的其他参数， `maxiter=400` 给出了最大迭代次数， `full_output=True` 则指明该函数除了输出优化得到的参数 `theta_opt` 外，还会返回最小的代价函数值 `cost_min` 等内容。\n",
    "\n",
    "对第一组参数，得到的代价约为 0.203 (cost_min)。\n"
   ]
  },
  {
   "cell_type": "code",
   "execution_count": 123,
   "id": "11ccf08f",
   "metadata": {
    "collapsed": false,
    "jupyter": {
     "outputs_hidden": false
    }
   },
   "outputs": [
    {
     "name": "stdout",
     "output_type": "stream",
     "text": [
      "(3,)\n",
      "(100, 3)\n",
      "Cost at initial theta (zeros):  0.6931471805599453\n",
      "Gradient at initial theta (zeros): \n",
      " [ -0.1        -12.00921659 -11.26284221]\n",
      "Optimization terminated successfully.\n",
      "         Current function value: 0.203498\n",
      "         Iterations: 48\n",
      "         Function evaluations: 114\n",
      "         Gradient evaluations: 114\n",
      "Cost at theta found by fmin_cg:  0.20349770192449923\n",
      "theta_op: \n",
      " [-25.16283369   0.2062436    0.20148384]\n"
     ]
    },
    {
     "name": "stderr",
     "output_type": "stream",
     "text": [
      "/var/folders/07/rkr2bxzj5239ldvcztbkd7xm0000gn/T/ipykernel_4922/4034681204.py:7: RuntimeWarning: divide by zero encountered in log\n",
      "  J = (-1 / X.shape[0]) * np.sum(y * np.log(h) + (1 - y) * np.log(1 - h))\n",
      "/var/folders/07/rkr2bxzj5239ldvcztbkd7xm0000gn/T/ipykernel_4922/4034681204.py:7: RuntimeWarning: invalid value encountered in multiply\n",
      "  J = (-1 / X.shape[0]) * np.sum(y * np.log(h) + (1 - y) * np.log(1 - h))\n"
     ]
    },
    {
     "data": {
      "image/png": "[encoded data removed]",
      "text/plain": [
       "<Figure size 640x480 with 1 Axes>"
      ]
     },
     "metadata": {},
     "output_type": "display_data"
    },
    {
     "name": "stdout",
     "output_type": "stream",
     "text": [
      "For a student with scores 45 and 85, we predict an admission probability of:  0.7763036859672799\n",
      "Train Accuracy:  89.0\n"
     ]
    }
   ],
   "source": [
    "def logistic_regression():\n",
    "    \"\"\"针对第一组数据建立逻辑回归模型。\"\"\"\n",
    "\n",
    "    # 加载数据\n",
    "    data = np.loadtxt(\"LR_data1.txt\", delimiter=\",\")\n",
    "    X, y = data[:, :2], data[:, 2]\n",
    "\n",
    "    # 计算代价与梯度\n",
    "    m, _ = X.shape\n",
    "    X = np.hstack((np.ones((m, 1)), X))\n",
    "\n",
    "    # 初始化参数\n",
    "    theta_initial = np.zeros_like(X[0])\n",
    "    print(theta_initial.shape)\n",
    "    print(X.shape)\n",
    "    # 计算并打印初始参数对应的代价与梯度\n",
    "    cost = cost_function(theta_initial, X, y)\n",
    "    grad = cost_gradient(theta_initial, X, y)\n",
    "    print(\"Cost at initial theta (zeros): \", cost)\n",
    "    print(\"Gradient at initial theta (zeros): \\n\", grad)\n",
    "\n",
    "    # ====================== YOUR CODE HERE ======================\n",
    "    ret = op.fmin_cg(cost_function,\n",
    "                 theta_initial,\n",
    "                 fprime=cost_gradient,\n",
    "                 args=(X, y),\n",
    "                 maxiter=400,\n",
    "                 full_output=True)\n",
    "    theta_opt, cost_min, _, _, _ = ret\n",
    "    # ============================================================\n",
    "    theta_opt, cost_min, _, _, _ = ret\n",
    "    print(\"Cost at theta found by fmin_cg: \", cost_min)\n",
    "    print(\"theta_op: \\n\", theta_opt)\n",
    "\n",
    "    # 绘制分类面\n",
    "    plot_decision_boundary(theta_opt, X, y)\n",
    "    plt.show()\n",
    "\n",
    "\n",
    "    # 预测考试一得45分，考试二得85分的学生的录取概率\n",
    "    x_test = np.array([1, 45, 85.0])\n",
    "    prob = sigmoid(np.dot(theta_opt, x_test))\n",
    "    print('For a student with scores 45 and 85, we predict an admission probability of: ', prob)\n",
    "\n",
    "    # 计算在训练集上的分类正确率\n",
    "    p = predict(theta_opt, X)\n",
    "    print(\"Train Accuracy: \", np.mean(p == y)*100.)\n",
    "    \n",
    "logistic_regression()"
   ]
  },
  {
   "cell_type": "markdown",
   "id": "5720993e",
   "metadata": {
    "collapsed": false,
    "jupyter": {
     "outputs_hidden": false
    }
   },
   "source": [
    "# 正则化的逻辑回归\n",
    "## 数据可视化\n",
    "调用函数`plot_data`可视化第二组数据 `LR_data2.txt` 。\n",
    "正确的输出如下：\n",
    "\n",
    "![LR_data2](LR_data2_visual.png)"
   ]
  },
  {
   "cell_type": "code",
   "execution_count": 133,
   "id": "5a7821c2",
   "metadata": {
    "collapsed": false,
    "jupyter": {
     "outputs_hidden": false
    }
   },
   "outputs": [
    {
     "data": {
      "image/png": "[encoded data removed]",
      "text/plain": [
       "<Figure size 640x480 with 1 Axes>"
      ]
     },
     "metadata": {},
     "output_type": "display_data"
    }
   ],
   "source": [
    "# 加载数据\n",
    "data = np.loadtxt(\"LR_data2.txt\", delimiter=\",\")\n",
    "X, y = data[:, :2], data[:, 2]\n",
    "\n",
    "# 可视化数据\n",
    "# ====================== YOUR CODE HERE ================\n",
    "plt.figure()\n",
    "admitted_index = []\n",
    "for i in range(y.size):\n",
    "    if y[i] == 1:\n",
    "        admitted_index.append(i)\n",
    "\n",
    "not_admitted_index = [i for i in range(y.size) if i not in admitted_index]\n",
    "\n",
    "plt.scatter(X[admitted_index, 0], X[admitted_index, 1], color='red', marker='+', label='Admitted')\n",
    "plt.scatter(X[not_admitted_index, 0], X[not_admitted_index, 1], color='darkblue', marker='o', label='Not admitted')\n",
    "plt.legend()\n",
    "# ======================================================\n",
    "plt.show()"
   ]
  },
  {
   "cell_type": "markdown",
   "id": "6c9bafe8",
   "metadata": {
    "collapsed": false,
    "jupyter": {
     "outputs_hidden": false
    }
   },
   "source": [
    "## 特征变换\n",
    "创建更多的特征是充分挖掘数据中的信息的一种有效手段。在函数 map_feature 中，我们将数据映射为其六阶多项式的所有项。\n",
    "\n",
    "$$ \\text{map\\_feature}(\\mathbf{x}) = \\begin{bmatrix} 1\\\\ x_1\\\\ x_2 \\\\ x_1^2 \\\\ x_1 x_2 \\\\x_2^2 \\\\ x_1^3 \\\\ \\vdots \\\\ x_1 x_2^5 \\\\ x_2^6 \\end{bmatrix} $$\n"
   ]
  },
  {
   "cell_type": "code",
   "execution_count": 134,
   "id": "56cb7d40",
   "metadata": {
    "collapsed": false,
    "jupyter": {
     "outputs_hidden": false
    }
   },
   "outputs": [],
   "source": [
    "def map_feature(X1, X2, degree=6):\n",
    "    \"\"\"Feature mapping function to polynomial features.\"\"\"\n",
    "    m = len(X1)\n",
    "    assert len(X1) == len(X2)\n",
    "    n = int((degree+2)*(degree+1)/2)\n",
    "\n",
    "    out = np.zeros((m, n))\n",
    "\n",
    "    idx = 0\n",
    "    for i in range(degree+1):\n",
    "        for j in range(i+1):\n",
    "            # print i-j, j, idx\n",
    "            out[:, idx] = np.power(X1, i-j)*np.power(X2, j)\n",
    "            idx += 1\n",
    "\n",
    "    return out"
   ]
  },
  {
   "cell_type": "markdown",
   "id": "b2aabe92",
   "metadata": {
    "collapsed": false,
    "jupyter": {
     "outputs_hidden": false
    }
   },
   "source": [
    "## 代价函数与梯度\n",
    "逻辑回归的代价函数为\n",
    "\n",
    "$$ J(\\theta) = \\frac{1}{m} \\sum_{i=1}^{m} \\left [ -y^{(i)} \\log \\left (h_{\\theta}(x^{(i)}) \\right) - (1-y^{(i)}) \\log \\left (\n",
    "1- h_{\\theta}(x^{(i)}) \\right ) \\right ] + \\frac{\\lambda}{2m} \\sum_{j=1}^{n} \\theta_{j}^{2}$$\n",
    "\n",
    "对应的梯度向量各分量为：\n",
    "\n",
    "\\begin{split}\n",
    "\\frac{\\partial J(\\theta)}{\\partial \\theta_{0}} &= \\frac{1}{m} \\sum_{i=1}^{m} \\big( h_{\\theta}(x^{(i)}) - y^{(i)} \\big) x_{0}^{(i)} \\qquad \\qquad \\text{for } j=0 \\\\\n",
    "\\frac{\\partial J(\\theta)}{\\partial \\theta_{j}} &= \\frac{1}{m} \\sum_{i=1}^{m} \\big( h_{\\theta}(x^{(i)}) - y^{(i)} \\big) x_{j}^{(i)} + \\frac{\\lambda}{m} \\theta_{j} \\qquad \\text{for } j \\geq 1\n",
    "\\end{split}\n",
    "\n",
    "完成以下函数：\n",
    "- `cost_function_reg()`\n",
    "- `cost_gradient_reg()`"
   ]
  },
  {
   "cell_type": "code",
   "execution_count": 140,
   "id": "21a55180",
   "metadata": {
    "collapsed": false,
    "jupyter": {
     "outputs_hidden": false
    }
   },
   "outputs": [],
   "source": [
    "def cost_function_reg(theta, X, y, lmb):\n",
    "    \"\"\"逻辑回归的代价函数，有正则项。\"\"\"\n",
    "    m = 1.0*len(y)\n",
    "    J = 0\n",
    "    # ====================== YOUR CODE HERE ======================\n",
    "    h = sigmoid(np.matmul(X, theta))\n",
    "    epsilon = 1e-10\n",
    "    h = np.clip(h, epsilon, 1 - epsilon)    # h in [epsilon, 1-epsilon]\n",
    "\n",
    "    cost = (-y * np.log(h) - (1 - y) * np.log(1 - h)).mean()\n",
    "    reg = lmb / (2 * m) * np.sum(theta*theta)\n",
    "    J = cost + reg\n",
    "    # ============================================================\n",
    "\n",
    "    return J\n",
    "\n",
    "\n",
    "def cost_gradient_reg(theta, X, y, lmb):\n",
    "    \"\"\"逻辑回归的代价函数的梯度，有正则项。\"\"\"\n",
    "\n",
    "    m = 1.0*len(y)\n",
    "    grad = np.zeros_like(theta)\n",
    "    # ====================== YOUR CODE HERE ======================\n",
    "    h = sigmoid(np.matmul(X, theta))\n",
    "    grad = np.zeros_like(theta)\n",
    "    \n",
    "    # 计算基础梯度（所有theta分量）\n",
    "    g = h - y\n",
    "    grad = (np.matmul(X.T, g)) / m\n",
    "    grad[1:] += (lmb / m) * theta[1:]\n",
    "    # ============================================================\n",
    "\n",
    "    return grad"
   ]
  },
  {
   "cell_type": "markdown",
   "id": "1b3e3a6c",
   "metadata": {
    "collapsed": false,
    "jupyter": {
     "outputs_hidden": false
    }
   },
   "source": [
    "## 模型训练\n",
    "如果将参数$\\theta$ 初始化为全零值，相应的代价函数约为 0.693。可以使用与前述无正则化项类似的方法实现梯度下降，\n",
    "获得优化后的参数 $\\theta^{*}$ 。\n",
    "你可以调用 plot_decision_boundary 函数来查看最终得到的分类面。建议你调整正则化项的系数，分析正则化对分类面的影响!\n",
    "\n",
    "参考输出图像：\n",
    "\n",
    "![](LR_data2_boundary.png)"
   ]
  },
  {
   "cell_type": "code",
   "execution_count": 145,
   "id": "1a84eac0",
   "metadata": {
    "collapsed": false,
    "jupyter": {
     "outputs_hidden": false
    }
   },
   "outputs": [
    {
     "name": "stdout",
     "output_type": "stream",
     "text": [
      "(118, 28)\n",
      "Cost at initial theta (zeros):  0.6931471805599454\n",
      "Gradient at initial theta (zeros): \n",
      " [8.47457627e-03 1.87880932e-02 7.77711864e-05 5.03446395e-02\n",
      " 1.15013308e-02 3.76648474e-02 1.83559872e-02 7.32393391e-03\n",
      " 8.19244468e-03 2.34764889e-02 3.93486234e-02 2.23923907e-03\n",
      " 1.28600503e-02 3.09593720e-03 3.93028171e-02 1.99707467e-02\n",
      " 4.32983232e-03 3.38643902e-03 5.83822078e-03 4.47629067e-03\n",
      " 3.10079849e-02 3.10312442e-02 1.09740238e-03 6.31570797e-03\n",
      " 4.08503006e-04 7.26504316e-03 1.37646175e-03 3.87936363e-02]\n",
      "         Current function value: 0.535776\n",
      "         Iterations: 8\n",
      "         Function evaluations: 68\n",
      "         Gradient evaluations: 58\n",
      "Cost at theta found by fmin_cg:  0.5357757195186119\n",
      "theta_op: \n",
      " [ 1.22008591  0.6174169   1.18134764 -1.96102914 -0.84518957 -1.23644428\n",
      "  0.09323171 -0.35130743 -0.35278837 -0.19758548 -1.46793288 -0.09276645\n",
      " -0.57816353 -0.25825218 -1.18239765 -0.27467132 -0.21615072 -0.06863601\n",
      " -0.25974267 -0.28202028 -0.56424266 -1.07964814 -0.0090027  -0.28241083\n",
      " -0.00667624 -0.31162077 -0.13714068 -1.03061176]\n"
     ]
    },
    {
     "name": "stderr",
     "output_type": "stream",
     "text": [
      "/opt/anaconda3/lib/python3.12/site-packages/scipy/optimize/_optimize.py:1659: OptimizeWarning: Desired error not necessarily achieved due to precision loss.\n",
      "  res = _minimize_cg(f, x0, args, fprime, callback=callback, c1=c1, c2=c2,\n",
      "/var/folders/07/rkr2bxzj5239ldvcztbkd7xm0000gn/T/ipykernel_4922/3756444921.py:24: DeprecationWarning: Conversion of an array with ndim > 0 to a scalar is deprecated, and will error in future. Ensure you extract a single element from your array before performing this operation. (Deprecated NumPy 1.25.)\n",
      "  z[i, j] = np.dot(map_feature(uu, vv), theta)\n",
      "/var/folders/07/rkr2bxzj5239ldvcztbkd7xm0000gn/T/ipykernel_4922/3756444921.py:29: MatplotlibDeprecationWarning: The collections attribute was deprecated in Matplotlib 3.8 and will be removed two minor releases later.\n",
      "  CS.collections[0].set_label('Decision boundary')\n"
     ]
    },
    {
     "data": {
      "image/png": "[encoded data removed]",
      "text/plain": [
       "<Figure size 640x480 with 1 Axes>"
      ]
     },
     "metadata": {},
     "output_type": "display_data"
    },
    {
     "name": "stdout",
     "output_type": "stream",
     "text": [
      "Train Accuracy:  83.05084745762711\n"
     ]
    }
   ],
   "source": [
    "def logistic_regression_reg(lmb=1.0):\n",
    "    \"\"\"针对第二组数据建立逻辑回归模型。\"\"\"\n",
    "\n",
    "    # 加载数据\n",
    "    data = np.loadtxt(\"LR_data2.txt\", delimiter=\",\")\n",
    "    X, y = data[:, :2], data[:, 2]\n",
    "\n",
    "    # 计算具有正则项的代价与梯度\n",
    "\n",
    "    # 注意map_feature会自动加入一列 1\n",
    "    X = map_feature(X[:, 0], X[:, 1])\n",
    "    print(X.shape)\n",
    "    # 初始化参数\n",
    "    theta_initial = np.zeros_like(X[0, :])\n",
    "\n",
    "    # 计算并打印初始参数对应的代价与梯度\n",
    "    cost = cost_function_reg(theta_initial, X, y, lmb=lmb)\n",
    "    grad = cost_gradient_reg(theta_initial, X, y, lmb=lmb)\n",
    "    print(\"Cost at initial theta (zeros): \", cost)\n",
    "    print(\"Gradient at initial theta (zeros): \\n\", grad)\n",
    "\n",
    "    # 使用 scipy.optimize.fmin_cg 优化模型参数\n",
    "    args = (X, y, lmb)\n",
    "    maxiter = 200\n",
    "    # ====================== YOUR CODE HERE ======================\n",
    "    ret = op.fmin_cg(\n",
    "        f=cost_function_reg,\n",
    "        x0=theta_initial,\n",
    "        fprime=cost_gradient_reg,\n",
    "        args=args,\n",
    "        maxiter=maxiter,\n",
    "        full_output=True,\n",
    "        retall=False\n",
    "    )\n",
    "    # ============================================================\n",
    "    theta_opt, cost_min, _, _, _ = ret\n",
    "    print(\"Cost at theta found by fmin_cg: \", cost_min)\n",
    "    print(\"theta_op: \\n\", theta_opt)\n",
    "\n",
    "    # 绘制分类面\n",
    "    plot_decision_boundary(theta_opt, X, y)\n",
    "    plt.title(\"lambda = \" + str(lmb))\n",
    "    plt.show()\n",
    "\n",
    "    # 计算在训练集上的分类正确率\n",
    "    pred = predict(theta_opt, X)\n",
    "    print(\"Train Accuracy: \", np.mean(pred == y)*100)\n",
    "# 可选：尝试不同正则化系数lmb = 0.0, 1.0, 10.0, 100.0对分类面的影响\n",
    "logistic_regression_reg(lmb=1) "
   ]
  }
 ],
 "metadata": {
  "jupytext": {
   "formats": "ipynb"
  },
  "kernelspec": {
   "display_name": "base",
   "language": "python",
   "name": "python3"
  },
  "language_info": {
   "codemirror_mode": {
    "name": "ipython",
    "version": 3
   },
   "file_extension": ".py",
   "mimetype": "text/x-python",
   "name": "python",
   "nbconvert_exporter": "python",
   "pygments_lexer": "ipython3",
   "version": "3.12.4"
  }
 },
 "nbformat": 4,
 "nbformat_minor": 5
}

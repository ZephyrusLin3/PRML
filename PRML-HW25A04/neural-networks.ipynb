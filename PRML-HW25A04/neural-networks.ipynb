{
 "cells": [
  {
   "cell_type": "markdown",
   "id": "6e84c163",
   "metadata": {},
   "source": [
    "**请填写你的姓名与学号**"
   ]
  },
  {
   "cell_type": "code",
   "execution_count": 2,
   "id": "869a2816",
   "metadata": {},
   "outputs": [],
   "source": [
    "name=\"朱永山\"\n",
    "student_id=\"23009200687\""
   ]
  },
  {
   "cell_type": "markdown",
   "id": "cc743777",
   "metadata": {
    "collapsed": false,
    "jupyter": {
     "outputs_hidden": false
    }
   },
   "source": [
    "# 使用神经网络进行手写字符识别\n",
    "\n",
    "在本次实验中，你将学会如何实现神经网络的误差反传训练算法，并应用它进行手写数字识别。"
   ]
  },
  {
   "cell_type": "code",
   "execution_count": 4,
   "id": "bbe936ca",
   "metadata": {
    "collapsed": false,
    "jupyter": {
     "outputs_hidden": false
    }
   },
   "outputs": [
    {
     "name": "stdout",
     "output_type": "stream",
     "text": [
      "NN_data.mat            environment.yml        nn-backpropagation.png\n",
      "NN_weights.mat         my-data-array.png      nn-representation.png\n",
      "data-array.png         neural-networks.ipynb\n"
     ]
    }
   ],
   "source": [
    "# 查看当前挂载的数据集目录\n",
    "!ls"
   ]
  },
  {
   "cell_type": "markdown",
   "id": "5b3ba6cc",
   "metadata": {
    "collapsed": false,
    "jupyter": {
     "outputs_hidden": false
    }
   },
   "source": [
    "## 数据介绍\n",
    "\n",
    "本次练习所用的数据集有5000个训练样本，每个样本对应于20x20大小的灰度图像。这些训练样本包括了9-0共十个数字的手写图像。这些样本中每个像素都用浮点数表示。加载得到的数据中，每幅图像都被展开为一个400维的向量，构成了数据矩阵中的一行。完整的训练数据是一个5000x400的矩阵，其每一行为一个训练样本（数字的手写图像）。数据中，对应于数字\"0\"的图像被标记为\"10\"，而数字\"1\"到\"9\"按照其自然顺序被分别标记为\"1\"到\"9\"。数据集保存在`NN_data.mat`.\n",
    "\n",
    "![image](./data-array.png)\n"
   ]
  },
  {
   "cell_type": "markdown",
   "id": "34db7926",
   "metadata": {
    "collapsed": false,
    "jupyter": {
     "outputs_hidden": false
    }
   },
   "source": [
    "## 模型表示\n",
    "\n",
    "我们准备训练的神经网络是一个三层的结构，一个输入层，一个隐层以及一个输出层。由于我们训练样本（图像）是20x20的，所以输入层单元数为400（不考虑额外的偏置项，如果考虑单元个数需要+1）。在我们的程序中，数据会被加载到变量<span> $X$ </span> 和<span> $y$ </span>里。\n",
    "\n",
    "本项练习提供了一组训练好的网络参数<span> $(\\Theta^{(1)}, \\Theta^{(2)})$ </span>。这些数据存储在数据文件 `NN_weights.mat`，在程序中被加载到变量 `Theta1` 与 `Theta2` 中。参数的维度对应于第二层有25个单元、10个输出单元（对应于10个数字 的类别）的网络。\n",
    "\n",
    "![image](./nn-representation.png)\n"
   ]
  },
  {
   "cell_type": "code",
   "execution_count": 7,
   "id": "2fde2795",
   "metadata": {
    "collapsed": false,
    "jupyter": {
     "outputs_hidden": false
    }
   },
   "outputs": [],
   "source": [
    "import numpy as np\n",
    "import scipy.io as sio\n",
    "from scipy.optimize import fmin_cg\n",
    "import matplotlib.pyplot as plt"
   ]
  },
  {
   "cell_type": "code",
   "execution_count": 8,
   "id": "79c2ab53",
   "metadata": {
    "collapsed": false,
    "jupyter": {
     "outputs_hidden": false
    }
   },
   "outputs": [],
   "source": [
    "def display_data(data, img_width=20):\n",
    "    \"\"\"将图像数据 data 按照矩阵形式显示出来\"\"\"\n",
    "    plt.figure()\n",
    "    # 计算数据尺寸相关数据\n",
    "    n_rows, n_cols = data.shape\n",
    "    img_height = n_cols // img_width\n",
    "\n",
    "    # 计算显示行数与列数\n",
    "    disp_rows = int(np.sqrt(n_rows))\n",
    "    disp_cols = (n_rows + disp_rows - 1) // disp_rows\n",
    "\n",
    "    # 图像行与列之间的间隔\n",
    "    pad = 1\n",
    "    disp_array = np.ones((pad + disp_rows*(img_height + pad),\n",
    "                          pad + disp_cols*(img_width + pad)))\n",
    "\n",
    "    idx = 0\n",
    "    for row in range(disp_rows):\n",
    "        for col in range(disp_cols):\n",
    "            if idx > m:\n",
    "                break\n",
    "            # 复制图像块\n",
    "            rb = pad + row*(img_height + pad)\n",
    "            cb = pad + col*(img_width + pad)\n",
    "            disp_array[rb:rb+img_height, cb:cb+img_width] = data[idx].reshape((img_height, -1), order='F')\n",
    "            # 获得图像块的最大值，对每个训练样本分别归一化\n",
    "            max_val = np.abs(data[idx].max())\n",
    "            disp_array[rb:rb+img_height, cb:cb+img_width] /= max_val\n",
    "            idx += 1\n",
    "\n",
    "    plt.imshow(disp_array)\n",
    "\n",
    "    plt.gray()\n",
    "    plt.axis('off')\n",
    "    plt.savefig('my-data-array.png', dpi=150)\n",
    "    plt.show()"
   ]
  },
  {
   "cell_type": "markdown",
   "id": "e8d51e43",
   "metadata": {
    "collapsed": false,
    "jp-MarkdownHeadingCollapsed": true,
    "jupyter": {
     "outputs_hidden": false
    }
   },
   "source": [
    "## 前向传播与代价函数\n",
    "\n",
    "现在你需要实现神经网络的代价函数及其梯度。首先需要使得函数 `nn_cost_function` 能够返回正确的代价值。\n",
    "\n",
    "神经网络的代价函数（不包括正则化项）的定义为：\n",
    "$$J(\\theta) = \\frac{1}{m} \\sum_{i=1}^{m} \\sum_{k=1}^{K} -y_k^{(i)} \\log\\left((h_{\\theta}(x^{(i)}))_k\\right)$$\n",
    "其中<span> $h_{\\theta}(x^{(i)})$ </span> 的计算如神经网络结构图所示，<span> $K=10$ </span>是 所有可能的类别数。这里的<span> $y$ </span>使用了one-hot 的表达方式。\n",
    "\n",
    "运行程序，使用预先训练好的网络参数，确认你得到的代价函数是正确的。（正确的代价约为0.287629）。"
   ]
  },
  {
   "cell_type": "markdown",
   "id": "3a5de1c6",
   "metadata": {
    "collapsed": false,
    "jupyter": {
     "outputs_hidden": false
    }
   },
   "source": [
    "## 代价函数的正则化\n",
    "\n",
    "神经网络包括正则化项的代价函数为: </br>\n",
    "$$J(\\theta) = \\frac{1}{m}\\sum_{i=1}^{m} \\sum_{k=1}^{K} -y_k^{(i)} \\log\\left((h_{\\theta}(x^{(i)}))_k\\right) + \\frac{\\lambda}{2m} \\left[\\sum_{j=1}^{25} \\sum_{k=1}^{400} (\\Theta_{j,k}^{(1)})^2 +\\sum_{j=1}^{10} \\sum_{k=1}^{25} (\\Theta_{j,k}^{(2)})^2 \\right] $$\n",
    "\n",
    "\n",
    "注意在上面式子中，正则化项的加和形式与练习中设定的网络结构一致。但是你的代码实现要保证能够用于任意大小的神经网络。\n",
    "此外，还需要注意，对应于偏置项的参数不能包括在正则化项中。对于矩阵 `Theta1` 与 `Theta2` 而言，这些项对应于矩阵的第一列。\n",
    "\n",
    "运行程序，使用预先训练好的权重数据，设置正则化系数$\\lambda=1$ (`lmb`) 确认你得到的代价函数是正确的。（正确的代价约为0.383770）。\n",
    "\n",
    "此步练习需要你补充实现 `nn_cost_function` 。"
   ]
  },
  {
   "cell_type": "code",
   "execution_count": 11,
   "id": "e9956cc9",
   "metadata": {
    "collapsed": false,
    "jupyter": {
     "outputs_hidden": false
    }
   },
   "outputs": [],
   "source": [
    "def nn_cost_function(nn_params, *args):\n",
    "    \"\"\"神经网络的损失函数\"\"\"\n",
    "    # Unpack parameters from *args\n",
    "    input_layer_size, hidden_layer_size, num_labels, lmb, X, y = args\n",
    "    # Unroll weights of neural networks from nn_params\n",
    "    Theta1 = nn_params[:hidden_layer_size*(input_layer_size + 1)]\n",
    "    Theta1 = Theta1.reshape((hidden_layer_size, input_layer_size + 1))\n",
    "    Theta2 = nn_params[hidden_layer_size*(input_layer_size + 1):]\n",
    "    Theta2 = Theta2.reshape((num_labels, hidden_layer_size + 1))\n",
    "\n",
    "    # 设置变量\n",
    "    m = X.shape[0]\n",
    "\n",
    "    # You need to return the following variable correctly\n",
    "    J = 0.0\n",
    "\n",
    "    # ====================== 你的代码 ======================\n",
    "    a_1 = np.hstack((np.ones((m, 1)), X))\n",
    "    z_2 = Theta1.dot(a_1.T)  # (25,5000)\n",
    "    a_2 = sigmoid(z_2)\n",
    "    a_2 = np.vstack((np.ones((1, m)), a_2))\n",
    "    z_3 = Theta2.dot(a_2)\n",
    "    a_3 = sigmoid(z_3)  # shape: (10, 5000)\n",
    "    y_adjusted = y.ravel() - 1 \n",
    "    y_onehot = np.eye(num_labels)[y_adjusted] \n",
    "    epsilon = 1e-7\n",
    "    entropy = -np.sum(y_onehot * np.log(a_3.T + epsilon) + (1-y_onehot) * np.log(1-a_3.T + epsilon))\n",
    "    left = entropy / m\n",
    "    \n",
    "    right = (lmb/(2*m)) * (np.sum(Theta1[:,1:]**2) + np.sum(Theta2[:,1:]**2))\n",
    "\n",
    "    J = left + right\n",
    "    # ======================================================\n",
    "    return J\n"
   ]
  },
  {
   "cell_type": "markdown",
   "id": "69cd9130",
   "metadata": {
    "collapsed": false,
    "jupyter": {
     "outputs_hidden": false
    }
   },
   "source": [
    "## 误差反传训练算法 (Backpropagation)\n",
    "\n",
    "![image](./nn-backpropagation.png)\n",
    "\n",
    "现在你需要实现误差反传训练算法。误差反传算法的思想大致可以描述如下。对于一个训练样本<span> $(x^{(t)}, y^{(t)})$ </span>，我们首先使用前向传播计算网络中所有单元（神经元）的激活值（activation），包括假设输出<span> $h_{\\Theta}(x)$ </span>。那么，对于第<span> $l$ </span>层的第<span> $j$ </span>个节点，我们期望计算出一个“误差项”<span> $\\delta_{j}^{(l)}$ </span>用于衡量该节点对于输出的误差的“贡献”。\n",
    "\n",
    "对于输出节点，我们可以直接计算网络的激活值与真实目标值之间的误差。对于我们所训练的第3层为输出层的网络，这个误差定义了<span> $\\delta_{j}^{(3)}$ </span>。对于隐层单元，需要根据第<span> $l+1$ </span>层的节点的误差的加权平均来计算<span> $\\delta_{j}^{(l)}$ </span>。\n",
    "\n",
    "下面是误差反传训练算法的细节（如图3所示）。你需要在一个循环中实现步骤1至4。循环的每一步处理一个训练样本。第5步将累积的梯度除以<span> $m$ </span>以得到神经网络代价函数的梯度。\n",
    "\n",
    "1.  设输入层的值<span> $a^{(1)}$ </span>为第<span> $t$ </span>个训练样本<span> $x^{(t)}$ </span>。执行前向传播，计算第2层与第3层各节点的激活值(<span> $z^{(2)}, a^{(2)}, z^{(3)}, a^{(3)}$ </span>)。注意你需要在<span> $a^{(1)}$ </span>与<span> $a^{(2)}$ </span>增加一个全部为 +1 的向量，以确保包括了偏置项。在 `numpy` 中可以使用函数 `ones` ， `hstack`, `vstack` 等完成（向量化版本）。\n",
    "2.  对第3层中的每个输出单元<span> $k$ </span>，计算\n",
    "\n",
    "    $$ \\delta_{k}^{(3)} = a_{k}^{(3)} - y_k $$\n",
    "    其中<span> $y_k \\in \\{0, 1\\}$ </span>表示当前训练样本是否是第<span> $k$ </span>类。\n",
    "\n",
    "3.  对隐层<span> $l=2$ </span>, 计算\n",
    "\n",
    "\t$$ \\delta^{(2)} = \\left( \\Theta^{(2)} \\right)^T \\delta^{(3)} .* g^{\\prime} (z^{(2)}) $$\n",
    "\t\n",
    "    其中$g^{\\prime}$ 表示 Sigmoid 函数的梯度， `.*` 在 `numpy` 中是通 常的逐个元素相乘的乘法，矩阵乘法应当使用 `numpy.dot` 函数。\n",
    "\n",
    "4.  使用下式将当前样本梯度进行累加：\n",
    "\t$$ \\Delta^{(l)} = \\Delta^{(l)} + \\delta^{(l+1)}(a^{(l)})^T $$\n",
    "    在 `numpy` 中，数组可以使用 `+=` 运算。\n",
    "\n",
    "5.  计算神经网络代价函数的（未正则化的）梯度，\n",
    "\t$$ \\frac{\\partial}{\\partial \\Theta_{ij}^{(l)}} J(\\Theta) = D_{ij}^{(l)} = \\frac{1}{m} \\Delta_{ij}^{(l)} $$\n",
    "\n",
    "这里，你需要（部分）完成函数 `nn_grad_function` 。程序将使用函数 `check_nn_gradients` 来检查你的实现是否正确。在使用循环的方式完成函数 `nn_grad_function` 后，建议尝试使用向量化的方式重新实现这个函数。\n",
    "\n"
   ]
  },
  {
   "cell_type": "markdown",
   "id": "b9c2f91c",
   "metadata": {
    "collapsed": false,
    "jupyter": {
     "outputs_hidden": false
    }
   },
   "source": [
    "## 神经网络的正则化\n",
    "\n",
    "你正确实现了误差反传训练算法之后，应当在梯度中加入正则化项。\n",
    "\n",
    "假设你在误差反传算法中计算了<span> $\\Delta_{ij}^{(l)}$ </span>，你需要增加的正则化项为\n",
    "\n",
    "$$\\frac{\\partial}{\\partial \\Theta_{ij}^{(l)}} J(\\Theta) = D_{ij}^{(l)} = \\frac{1}{m} \\Delta_{ij}^{(l)} \\qquad \\text{for } j = 0\n",
    "\\frac{\\partial}{\\partial \\Theta_{ij}^{(l)}} J(\\Theta) = D_{ij}^{(l)} = \\frac{1}{m} \\Delta_{ij}^{(l)} + \\frac{\\lambda}{m} \\Theta_{ij}^{(l)} \\qquad \\text{for } j \\geq 1 $$\n",
    "\n",
    "注意你不应该正则化<span> $\\Theta^{(l)}$ </span>的第一列，因其对应于偏置项。\n",
    "\n",
    "此步练习需要你补充实现函数 `nn_grad_function` 。\n"
   ]
  },
  {
   "cell_type": "code",
   "execution_count": 14,
   "id": "b7371c27",
   "metadata": {
    "collapsed": false,
    "jupyter": {
     "outputs_hidden": false
    }
   },
   "outputs": [],
   "source": [
    "def nn_grad_function(nn_params, *args):\n",
    "    \"\"\"神经网络的损失函数梯度计算 \"\"\"\n",
    "    \n",
    "    # 获得参数信息\n",
    "    input_layer_size, hidden_layer_size, num_labels, lmb, X, y = args\n",
    "    # 得到各个参数的权重值\n",
    "    Theta1 = nn_params[:hidden_layer_size*(input_layer_size + 1)]\n",
    "    Theta1 = Theta1.reshape((hidden_layer_size, input_layer_size + 1))\n",
    "    Theta2 = nn_params[hidden_layer_size*(input_layer_size + 1):]\n",
    "    Theta2 = Theta2.reshape((num_labels, hidden_layer_size + 1))\n",
    "\n",
    "    # 设置变量\n",
    "    m = X.shape[0]\n",
    "\n",
    "    # ====================== 你的代码 =====================\n",
    "    a_1 = np.hstack((np.ones((m, 1)), X))  # (m, input_size+1)\n",
    "    z_2 = Theta1.dot(a_1.T)  # (hidden_size, m)\n",
    "    a_2 = sigmoid(z_2)  # (hidden_size, m)\n",
    "    a_2 = np.vstack((np.ones((1, m)), a_2))  # (hidden_size+1, m)\n",
    "    z_3 = Theta2.dot(a_2)  # (num_labels, m)\n",
    "    a_3 = sigmoid(z_3)  # (num_labels, m)\n",
    "    \n",
    "    # 初始化累积梯度\n",
    "    Theta1_grad = np.zeros_like(Theta1)  # (hidden_size, input_size+1)\n",
    "    Theta2_grad = np.zeros_like(Theta2)  # (num_labels, hidden_size+1)\n",
    "    \n",
    "    # 遍历每个样本进行反向传播\n",
    "    for i in range(m):\n",
    "        # 当前样本的激活值\n",
    "        a1i = a_1[i, :].reshape(-1, 1)  # (input_size+1, 1)\n",
    "        a2i = a_2[:, i].reshape(-1, 1)  # (hidden_size+1, 1)\n",
    "        a3i = a_3[:, i].reshape(-1, 1)  # (num_labels, 1)\n",
    "        z2i = z_2[:, i].reshape(-1, 1)  # (hidden_size, 1)\n",
    "        \n",
    "        # 创建当前样本的one-hot编码\n",
    "        yi = np.zeros((num_labels, 1))\n",
    "        yi[y[i]-1, 0] = 1  # y[i]是从1开始的索引\n",
    "        \n",
    "        # 计算输出层误差\n",
    "        delta3 = a3i - yi  # (num_labels, 1)\n",
    "        \n",
    "        # 计算隐藏层误差\n",
    "        delta2 = Theta2.T.dot(delta3)  # (hidden_size+1, 1)\n",
    "        delta2 = delta2[1:]  # 去掉偏置项 (hidden_size, 1)\n",
    "        delta2 *= sigmoid_gradient(z2i)  # 元素级乘法 (hidden_size, 1)\n",
    "        \n",
    "        # 累积梯度\n",
    "        Theta2_grad += delta3.dot(a2i.T)  # (num_labels, hidden_size+1)\n",
    "        Theta1_grad += delta2.dot(a1i.T)  # (hidden_size, input_size+1)\n",
    "    \n",
    "    # 除以样本数求平均\n",
    "    Theta1_grad /= m\n",
    "    Theta2_grad /= m\n",
    "    \n",
    "    # 添加正则化项 (不包括偏置项)\n",
    "    if lmb > 0:\n",
    "        Theta1_grad[:, 1:] += (lmb/m) * Theta1[:, 1:]\n",
    "        Theta2_grad[:, 1:] += (lmb/m) * Theta2[:, 1:]\n",
    "    \n",
    "    # =====================================================\n",
    "    \n",
    "    grad = np.hstack((Theta1_grad.flatten(), Theta2_grad.flatten()))\n",
    "    return grad\n"
   ]
  },
  {
   "cell_type": "markdown",
   "id": "1bbf1082",
   "metadata": {
    "collapsed": false,
    "jupyter": {
     "outputs_hidden": false
    }
   },
   "source": [
    "\n",
    "## 误差反传训练算法\n",
    "\n",
    "### `Sigmoid` 函数及其梯度\n",
    "\n",
    "Sigmoid 函数定义为\n",
    "\n",
    "$$ \\text{sigmoid}(z) = g(z) = \\frac{1}{1+\\exp(-z)} $$\n",
    "\n",
    "\n",
    "Sigmoid 函数的梯度可以按照下式进行计算\n",
    "$$ g^{\\prime}(z) = \\frac{d}{dz} g(z) = g(z)(1-g(z)) $$\n",
    "为验证你的实现是正确的，以下事实可供你参考。当<span> $z=0$ </span>是，梯度的精确值为 0.25 。当<span> $z$ </span>的值很大（可正可负）时，梯度值接近于0。\n",
    "\n",
    "这里，你需要补充完成函数 `sigmoid` 与 `sigmoid_gradient` 。 你需要保证实现的函数的输入参数可以为矢量和矩阵( `numpy.ndarray`)。\n",
    "\n",
    "### 网络参数的随机初始化\n",
    "\n",
    "训练神经网络时，使用随机数初始化网络参数非常重要。一个非常有效的随机初始化策略为，在范围<span> $[ -\\epsilon_{init}, \\epsilon_{init} ]$ </span>内按照均匀分布随机选择参数<span> $\\Theta^{(l)}$ </span>的初始值。这里你需要设置<span> $\\epsilon_{init} = 0.12$ </span>。这个范围保证了参数较小且训练过程高效。\n",
    "\n",
    "你需要补充实现函数 `rand_initialize_weigths` 。\n",
    "\n",
    "对于一般的神经网络，如果第<span> $l$ </span>层的输入单元数为<span> $L_{in}$ </span>，输出单元数为<span> $L_{out}$ </span>，则<span> $\\epsilon_{init} = {\\sqrt{6}}/{\\sqrt{L_{in} + L_{out}}}$ </span>可以做为有效的指导策略。"
   ]
  },
  {
   "cell_type": "code",
   "execution_count": 16,
   "id": "ca09dba1",
   "metadata": {
    "collapsed": false,
    "jupyter": {
     "outputs_hidden": false
    }
   },
   "outputs": [],
   "source": [
    "def sigmoid(z):\n",
    "    \"\"\"Sigmoid 函数\"\"\"\n",
    "    return 1.0/(1.0 + np.exp(-np.asarray(z)))"
   ]
  },
  {
   "cell_type": "code",
   "execution_count": 17,
   "id": "b4fac9cb",
   "metadata": {
    "collapsed": false,
    "jupyter": {
     "outputs_hidden": false
    }
   },
   "outputs": [],
   "source": [
    "def sigmoid_gradient(z):\n",
    "    \"\"\"计算Sigmoid 函数的梯度\"\"\"\n",
    "    g = np.zeros_like(z)\n",
    "    # ======================　你的代码 ======================\n",
    "    s = sigmoid(z)\n",
    "    g = s * (1 - s)\n",
    "    # =======================================================\n",
    "    return g"
   ]
  },
  {
   "cell_type": "code",
   "execution_count": 18,
   "id": "2fa04611",
   "metadata": {
    "collapsed": false,
    "jupyter": {
     "outputs_hidden": false
    }
   },
   "outputs": [],
   "source": [
    "def rand_initialize_weights(L_in, L_out):\n",
    "    \"\"\" 初始化网络层权重参数\"\"\"\n",
    "\n",
    "    # You need to return the following variables correctly\n",
    "    W = np.zeros((L_out, 1 + L_in))\n",
    "    # ====================== 你的代码 ======================\n",
    "    epsilon = 0.12 \n",
    "    W = np.random.uniform(-epsilon, epsilon, size=W.shape)\n",
    "    # ======================================================\n",
    "    return W"
   ]
  },
  {
   "cell_type": "code",
   "execution_count": 19,
   "id": "be55baa2",
   "metadata": {
    "collapsed": false,
    "jupyter": {
     "outputs_hidden": false
    }
   },
   "outputs": [],
   "source": [
    "def debug_initialize_weights(fan_out, fan_in):\n",
    "    \"\"\"Initalize the weights of a layer with\n",
    "    fan_in incoming connections and\n",
    "    fan_out outgoing connection using a fixed strategy.\"\"\"\n",
    "\n",
    "    W = np.linspace(1, fan_out*(fan_in+1), fan_out*(fan_in+1))\n",
    "    W = 0.1*np.sin(W).reshape(fan_out, fan_in + 1)\n",
    "    return W"
   ]
  },
  {
   "cell_type": "code",
   "execution_count": 20,
   "id": "65457e17",
   "metadata": {
    "collapsed": false,
    "jupyter": {
     "outputs_hidden": false
    }
   },
   "outputs": [],
   "source": [
    "def compute_numerical_gradient(cost_func, theta):\n",
    "    \"\"\"Compute the numerical gradient of the given cost_func\n",
    "    at parameter theta\"\"\"\n",
    "\n",
    "    numgrad = np.zeros_like(theta)\n",
    "    perturb = np.zeros_like(theta)\n",
    "    eps = 1.0e-4\n",
    "    for idx in range(len(theta)):\n",
    "        perturb[idx] = eps\n",
    "        loss1 = cost_func(theta - perturb)\n",
    "        loss2 = cost_func(theta + perturb)\n",
    "        numgrad[idx] = (loss2 - loss1)/(2*eps)\n",
    "        perturb[idx] = 0.0\n",
    "    return numgrad"
   ]
  },
  {
   "cell_type": "markdown",
   "id": "c836aec5",
   "metadata": {
    "collapsed": false,
    "jupyter": {
     "outputs_hidden": false
    }
   },
   "source": [
    "## 检查梯度\n",
    "在神经网络中，需要最小化代价函数<span> $J(\\Theta)$ </span>。为了检查梯度计算是否正确，考虑把参数<span> $\\Theta^{(1)}$ </span>和<span> $\\Theta^{(2)}$ </span>展开为一个长的向量<span> $\\theta$ </span>。假设函数<span> $f_i(\\theta)$ </span>表示<span> $\\frac{\\partial}{\\partial \\theta_i} J(\\theta)$ </span>。\n",
    "\n",
    "令\n",
    "$$ \\theta^{(i+)} = \\theta + \\begin{bmatrix} 0 \\\\ 0 \\\\ \\vdots \\\\ \\epsilon \\\\ \\vdots \\\\ 0 \\end{bmatrix} \\qquad\n",
    "  \\theta^{(i-)} = \\theta - \\begin{bmatrix} 0 \\\\ 0 \\\\ \\vdots \\\\ \\epsilon \\\\ \\vdots \\\\ 0 \\end{bmatrix} $$\n",
    "\n",
    "上式中，<span> $\\theta^{(i+)}$ </span>除了第<span> $i$ </span>个元素增加了<span> $\\epsilon$ </span>之 外，其他元素均与<span> $\\theta$ </span>相同。类似的，<span> $\\theta^{(i-)}$ </span>中仅第<span> $i$ </span>个元素减少了<span> $\\epsilon$ </span>。可以使用数值近似验证<span> $f_i(\\theta)$ </span>计算是否正确：\n",
    "$$f_i(\\theta) \\approx \\frac{J(\\theta^{(i+)}) - J(\\theta^{(i-)})}{2\\epsilon}$$\n",
    "如果设<span> $\\epsilon=10^{-4}$ </span>，通常上式左右两端的差异出现于第4位有效数字之后（经常会有更高的精度）。\n",
    "\n",
    "在练习的程序代码中，函数 `compute_numerical_gradient` 已经实现，建议你认真阅读该函数并理解其实现原理与方案。\n",
    "\n",
    "之后，程序将执行 `check_nn_gradients` 函数。该函数将创建一个较小的神经网络用于检测你的误差反传训练算法所计算得到的梯度是否正确。如果你的实现是正确的，你得到的 梯度与数值梯度之后的绝对误差（各分量的绝对值差之和）应当小于<span> $10^{-9}$ </span>。"
   ]
  },
  {
   "cell_type": "code",
   "execution_count": 22,
   "id": "c8a22315",
   "metadata": {
    "collapsed": false,
    "jupyter": {
     "outputs_hidden": false
    }
   },
   "outputs": [],
   "source": [
    "def check_nn_gradients(lmb=0.0):\n",
    "    \"\"\"Creates a small neural network to check the backgropagation\n",
    "    gradients.\"\"\"\n",
    "    input_layer_size, hidden_layer_size = 3, 5\n",
    "    num_labels, m = 3, 5\n",
    "\n",
    "    Theta1 = debug_initialize_weights(hidden_layer_size, input_layer_size)\n",
    "    Theta2 = debug_initialize_weights(num_labels, hidden_layer_size)\n",
    "\n",
    "    X = debug_initialize_weights(m, input_layer_size - 1)\n",
    "    y = np.array([1 + (t % num_labels) for t in range(m)])\n",
    "    nn_params = np.hstack((Theta1.flatten(), Theta2.flatten()))\n",
    "\n",
    "    cost_func = lambda x: nn_cost_function(x,\n",
    "                                           input_layer_size,\n",
    "                                           hidden_layer_size,\n",
    "                                           num_labels, lmb, X, y)\n",
    "    grad = nn_grad_function(nn_params,\n",
    "                            input_layer_size, hidden_layer_size,\n",
    "                            num_labels, lmb, X, y)\n",
    "    numgrad = compute_numerical_gradient(cost_func, nn_params)\n",
    "    print(np.vstack((numgrad, grad)).T, np.sum(np.abs(numgrad - grad)))\n",
    "    print('The above two columns you get should be very similar.')\n",
    "    print('(Left-Your Numerical Gradient, Right-Analytical Gradient)')"
   ]
  },
  {
   "cell_type": "code",
   "execution_count": 23,
   "id": "829c27f0",
   "metadata": {
    "collapsed": false,
    "jupyter": {
     "outputs_hidden": false
    }
   },
   "outputs": [],
   "source": [
    "def predict(Theta1, Theta2, X):\n",
    "    \"\"\"模型预测\"\"\"\n",
    "   \n",
    "    m = X.shape[0]\n",
    "    # num_labels = Theta2.shape[0]\n",
    "\n",
    "    p = np.zeros((m,1), dtype=int)\n",
    "    # ====================== 你的代码============================\n",
    "    a1 = np.hstack((np.ones((m, 1)), X))  \n",
    "    z2 = a1.dot(Theta1.T)\n",
    "    a2 = sigmoid(z2)\n",
    "    a2 = np.hstack((np.ones((a2.shape[0], 1)), a2))  \n",
    "    z3 = a2.dot(Theta2.T)\n",
    "    h2 = sigmoid(z3)\n",
    "    # ============================================================\n",
    "    # print(h1.shape, h2.shape)\n",
    "    p = np.argmax(h2, axis=1) + 1.0\n",
    "    return p\n"
   ]
  },
  {
   "cell_type": "code",
   "execution_count": 24,
   "id": "31887362",
   "metadata": {
    "collapsed": false,
    "jupyter": {
     "outputs_hidden": false
    },
    "lines_to_next_cell": 2
   },
   "outputs": [],
   "source": [
    "# Parameters\n",
    "input_layer_size = 400          # 20x20 大小的输入图像，图像内容为手写数字\n",
    "hidden_layer_size = 25          # 25 hidden units\n",
    "num_labels = 10                 # 10 类标号 从1到10"
   ]
  },
  {
   "cell_type": "markdown",
   "id": "ee3731de",
   "metadata": {
    "collapsed": false,
    "jupyter": {
     "outputs_hidden": false
    }
   },
   "source": [
    "## 加载数据集"
   ]
  },
  {
   "cell_type": "code",
   "execution_count": 26,
   "id": "c75faf69",
   "metadata": {
    "collapsed": false,
    "jupyter": {
     "outputs_hidden": false
    }
   },
   "outputs": [
    {
     "name": "stdout",
     "output_type": "stream",
     "text": [
      "Loading and Visualizing Data...\n"
     ]
    },
    {
     "data": {
      "image/png": "[encoded data removed]",
      "text/plain": [
       "<Figure size 640x480 with 1 Axes>"
      ]
     },
     "metadata": {},
     "output_type": "display_data"
    }
   ],
   "source": [
    "# =========== 第一部分 ===============\n",
    "# 加载训练数据\n",
    "print(\"Loading and Visualizing Data...\")\n",
    "data = sio.loadmat('NN_data.mat')\n",
    "X, y = data['X'], data['y']\n",
    "\n",
    "m = X.shape[0]\n",
    "\n",
    "# 随机选取100个数据显示\n",
    "rand_indices = np.array(range(m))\n",
    "np.random.shuffle(rand_indices)\n",
    "X_sel = X[rand_indices[:100]]\n",
    "\n",
    "display_data(X_sel)"
   ]
  },
  {
   "cell_type": "markdown",
   "id": "4bde58c7",
   "metadata": {
    "collapsed": false,
    "jupyter": {
     "outputs_hidden": false
    }
   },
   "source": [
    "## 加载神经网络模型的权重"
   ]
  },
  {
   "cell_type": "code",
   "execution_count": 28,
   "id": "9d18418d",
   "metadata": {
    "collapsed": false,
    "jupyter": {
     "outputs_hidden": false
    }
   },
   "outputs": [
    {
     "name": "stdout",
     "output_type": "stream",
     "text": [
      "Loading Saved Neural Network Parameters ...\n"
     ]
    }
   ],
   "source": [
    "# =========== 第二部分 ===============\n",
    "print('Loading Saved Neural Network Parameters ...')\n",
    "\n",
    "# Load the weights into variables Theta1 and Theta2\n",
    "data = sio.loadmat('NN_weights.mat')\n",
    "Theta1, Theta2 = data['Theta1'], data['Theta2']\n",
    "\n",
    "# print Theta1.shape, (hidden_layer_size, input_layer_size + 1)\n",
    "# print Theta2.shape, (num_labels, hidden_layer_size + 1)"
   ]
  },
  {
   "cell_type": "code",
   "execution_count": 29,
   "id": "4d6dccf2",
   "metadata": {
    "collapsed": false,
    "jupyter": {
     "outputs_hidden": false
    }
   },
   "outputs": [
    {
     "name": "stdout",
     "output_type": "stream",
     "text": [
      "Feedforward Using Neural Network ...\n",
      "(this value should be about 0.287629)\n"
     ]
    }
   ],
   "source": [
    "# ================ Part 3: Compute Cost (Feedforward) ================\n",
    "\n",
    "#  To the neural network, you should first start by implementing the\n",
    "#  feedforward part of the neural network that returns the cost only. You\n",
    "#  should complete the code in nnCostFunction.m to return cost. After\n",
    "#  implementing the feedforward to compute the cost, you can verify that\n",
    "#  your implementation is correct by verifying that you get the same cost\n",
    "#  as us for the fixed debugging parameters.\n",
    "#\n",
    "#  We suggest implementing the feedforward cost *without* regularization\n",
    "#  first so that it will be easier for you to debug. Later, in part 4, you\n",
    "#  will get to implement the regularized cost.\n",
    "\n",
    "print('Feedforward Using Neural Network ...')\n",
    "\n",
    "# Weight regularization parameter (we set this to 0 here).\n",
    "lmb = 0.0\n",
    "\n",
    "nn_params = np.hstack((Theta1.flatten(), Theta2.flatten()))\n",
    "J = nn_cost_function(nn_params,\n",
    "                     input_layer_size, hidden_layer_size,\n",
    "                     num_labels, lmb, X, y)\n",
    "print('(this value should be about 0.287629)')"
   ]
  },
  {
   "cell_type": "code",
   "execution_count": 30,
   "id": "9aae0f19",
   "metadata": {
    "collapsed": false,
    "jupyter": {
     "outputs_hidden": false
    }
   },
   "outputs": [
    {
     "name": "stdout",
     "output_type": "stream",
     "text": [
      "Checking Cost Function (w/ Regularization) ... \n",
      "Cost at parameters (loaded from PRML_NN_weights): 0.383769 \n",
      "(this value should be about 0.383770)\n"
     ]
    }
   ],
   "source": [
    "# =============== Part 4: Implement Regularization ===============\n",
    "print('Checking Cost Function (w/ Regularization) ... ')\n",
    "lmb = 1.0\n",
    "\n",
    "J = nn_cost_function(nn_params,\n",
    "                     input_layer_size, hidden_layer_size,\n",
    "                     num_labels, lmb, X, y)\n",
    "\n",
    "print('Cost at parameters (loaded from PRML_NN_weights): %f ' % J)\n",
    "print('(this value should be about 0.383770)')"
   ]
  },
  {
   "cell_type": "code",
   "execution_count": 31,
   "id": "ada0c912",
   "metadata": {
    "collapsed": false,
    "jupyter": {
     "outputs_hidden": false
    },
    "lines_to_next_cell": 2
   },
   "outputs": [
    {
     "name": "stdout",
     "output_type": "stream",
     "text": [
      "Evaluating sigmoid gradient...\n",
      "Sigmoid gradient evaluated at [1 -0.5 0 0.5 1]:   [0.19661193 0.23500371 0.25       0.23500371 0.19661193]\n"
     ]
    }
   ],
   "source": [
    "# ================ Part 5: Sigmoid Gradient  ================\n",
    "print('Evaluating sigmoid gradient...')\n",
    "\n",
    "g = sigmoid_gradient([1, -0.5, 0, 0.5, 1])\n",
    "print('Sigmoid gradient evaluated at [1 -0.5 0 0.5 1]:  ', g)"
   ]
  },
  {
   "cell_type": "markdown",
   "id": "62834caa",
   "metadata": {
    "collapsed": false,
    "jupyter": {
     "outputs_hidden": false
    }
   },
   "source": [
    "## 神经网络参数初始化"
   ]
  },
  {
   "cell_type": "code",
   "execution_count": 33,
   "id": "9a7c347f",
   "metadata": {
    "collapsed": false,
    "jupyter": {
     "outputs_hidden": false
    }
   },
   "outputs": [
    {
     "name": "stdout",
     "output_type": "stream",
     "text": [
      "Initializing Neural Network Parameters ...\n"
     ]
    }
   ],
   "source": [
    "#  ================ Part 6: Initializing Pameters ================\n",
    "print('Initializing Neural Network Parameters ...')\n",
    "initial_Theta1 = rand_initialize_weights(input_layer_size, hidden_layer_size)\n",
    "initial_Theta2 = rand_initialize_weights(hidden_layer_size, num_labels)\n",
    "\n",
    "# Unroll parameters\n",
    "initial_nn_params = np.hstack((initial_Theta1.flatten(),\n",
    "                               initial_Theta2.flatten()))"
   ]
  },
  {
   "cell_type": "code",
   "execution_count": 34,
   "id": "b7d754cc",
   "metadata": {
    "collapsed": false,
    "jupyter": {
     "outputs_hidden": false
    },
    "lines_to_next_cell": 2
   },
   "outputs": [
    {
     "name": "stdout",
     "output_type": "stream",
     "text": [
      "Checking Backpropagation... \n",
      "[[ 1.27220284e-02  1.27220311e-02]\n",
      " [ 1.58832776e-04  1.58832809e-04]\n",
      " [ 2.17690408e-04  2.17690455e-04]\n",
      " [ 7.64044827e-05  7.64045009e-05]\n",
      " [ 6.46352131e-03  6.46352265e-03]\n",
      " [ 2.34983721e-05  2.34983735e-05]\n",
      " [-3.74199027e-05 -3.74199098e-05]\n",
      " [-6.39344888e-05 -6.39345006e-05]\n",
      " [-5.74199801e-03 -5.74199923e-03]\n",
      " [-1.34051992e-04 -1.34052019e-04]\n",
      " [-2.59146218e-04 -2.59146269e-04]\n",
      " [-1.45982604e-04 -1.45982634e-04]\n",
      " [-1.26792363e-02 -1.26792390e-02]\n",
      " [-1.67913154e-04 -1.67913187e-04]\n",
      " [-2.41808964e-04 -2.41809017e-04]\n",
      " [-9.33867317e-05 -9.33867522e-05]\n",
      " [-7.94573369e-03 -7.94573535e-03]\n",
      " [-4.76254369e-05 -4.76254501e-05]\n",
      " [-2.64923639e-06 -2.64923844e-06]\n",
      " [ 4.47626625e-05  4.47626708e-05]\n",
      " [ 1.09347698e-01  1.09347722e-01]\n",
      " [ 5.67965062e-02  5.67965185e-02]\n",
      " [ 5.25298192e-02  5.25298306e-02]\n",
      " [ 5.53542787e-02  5.53542907e-02]\n",
      " [ 5.59290712e-02  5.59290833e-02]\n",
      " [ 5.23534568e-02  5.23534682e-02]\n",
      " [ 1.08132979e-01  1.08133003e-01]\n",
      " [ 5.67319480e-02  5.67319602e-02]\n",
      " [ 5.14442820e-02  5.14442931e-02]\n",
      " [ 5.48295967e-02  5.48296085e-02]\n",
      " [ 5.56926412e-02  5.56926532e-02]\n",
      " [ 5.11795541e-02  5.11795651e-02]\n",
      " [ 3.06270310e-01  3.06270372e-01]\n",
      " [ 1.59463102e-01  1.59463135e-01]\n",
      " [ 1.45570234e-01  1.45570264e-01]\n",
      " [ 1.56700501e-01  1.56700533e-01]\n",
      " [ 1.56043936e-01  1.56043968e-01]\n",
      " [ 1.45771514e-01  1.45771544e-01]] 3.9274431840218956e-07\n",
      "The above two columns you get should be very similar.\n",
      "(Left-Your Numerical Gradient, Right-Analytical Gradient)\n"
     ]
    }
   ],
   "source": [
    "# =============== Part 7: Implement Backpropagation ===============\n",
    "print('Checking Backpropagation... ')\n",
    "\n",
    "# Check gradients by running checkNNGradients\n",
    "check_nn_gradients()"
   ]
  },
  {
   "cell_type": "code",
   "execution_count": 35,
   "id": "d1fade9c",
   "metadata": {
    "collapsed": false,
    "jupyter": {
     "outputs_hidden": false
    }
   },
   "outputs": [
    {
     "name": "stdout",
     "output_type": "stream",
     "text": [
      "Checking Backpropagation (w/ Regularization) ... \n",
      "[[ 0.01272203  0.01272203]\n",
      " [ 0.05471668  0.05471668]\n",
      " [ 0.00868489  0.00868489]\n",
      " [-0.04533175 -0.04533175]\n",
      " [ 0.00646352  0.00646352]\n",
      " [-0.01674143 -0.01674143]\n",
      " [ 0.03938178  0.03938178]\n",
      " [ 0.05929756  0.05929756]\n",
      " [-0.005742   -0.005742  ]\n",
      " [-0.03277532 -0.03277532]\n",
      " [-0.06025856 -0.06025856]\n",
      " [-0.03234036 -0.03234036]\n",
      " [-0.01267924 -0.01267924]\n",
      " [ 0.05926853  0.05926853]\n",
      " [ 0.03877546  0.03877546]\n",
      " [-0.01736759 -0.01736759]\n",
      " [-0.00794573 -0.00794574]\n",
      " [-0.04510686 -0.04510686]\n",
      " [ 0.00898998  0.00898998]\n",
      " [ 0.05482148  0.05482148]\n",
      " [ 0.1093477   0.10934772]\n",
      " [ 0.11135435  0.11135436]\n",
      " [ 0.06099702  0.06099703]\n",
      " [ 0.00994613  0.00994614]\n",
      " [-0.00160639 -0.00160637]\n",
      " [ 0.03558853  0.03558854]\n",
      " [ 0.10813298  0.108133  ]\n",
      " [ 0.11609344  0.11609346]\n",
      " [ 0.07617139  0.0761714 ]\n",
      " [ 0.02218833  0.02218834]\n",
      " [-0.00430677 -0.00430676]\n",
      " [ 0.01898518  0.01898519]\n",
      " [ 0.30627031  0.30627037]\n",
      " [ 0.21889954  0.21889958]\n",
      " [ 0.1845875   0.18458753]\n",
      " [ 0.1394263   0.13942633]\n",
      " [ 0.09836009  0.09836012]\n",
      " [ 0.10071228  0.10071231]] 3.9274464580518753e-07\n",
      "The above two columns you get should be very similar.\n",
      "(Left-Your Numerical Gradient, Right-Analytical Gradient)\n"
     ]
    }
   ],
   "source": [
    "# =============== Part 8: Implement Regularization ===============\n",
    "print('Checking Backpropagation (w/ Regularization) ... ')\n",
    "# Check gradients by running checkNNGradients\n",
    "lmb = 3.0\n",
    "check_nn_gradients(lmb)"
   ]
  },
  {
   "cell_type": "markdown",
   "id": "bbfc0f3f",
   "metadata": {
    "collapsed": false,
    "jupyter": {
     "outputs_hidden": false
    }
   },
   "source": [
    "## 训练神经网络"
   ]
  },
  {
   "cell_type": "code",
   "execution_count": 37,
   "id": "dfe0d341",
   "metadata": {
    "collapsed": false,
    "jupyter": {
     "outputs_hidden": false
    }
   },
   "outputs": [
    {
     "name": "stdout",
     "output_type": "stream",
     "text": [
      "Training Neural Network...\n",
      "         Current function value: 0.427165\n",
      "         Iterations: 50\n",
      "         Function evaluations: 111\n",
      "         Gradient evaluations: 111\n"
     ]
    },
    {
     "name": "stderr",
     "output_type": "stream",
     "text": [
      "/opt/anaconda3/lib/python3.12/site-packages/scipy/optimize/_optimize.py:1659: OptimizeWarning: Maximum number of iterations has been exceeded.\n",
      "  res = _minimize_cg(f, x0, args, fprime, callback=callback, c1=c1, c2=c2,\n"
     ]
    }
   ],
   "source": [
    "# =================== Part 8: Training NN ===================\n",
    "print('Training Neural Network...')\n",
    "\n",
    "lmb, maxiter = 1.0, 50\n",
    "args = (input_layer_size, hidden_layer_size, num_labels, lmb, X, y)\n",
    "nn_params, cost_min, _, _, _ = fmin_cg(nn_cost_function,\n",
    "                                       initial_nn_params,\n",
    "                                       fprime=nn_grad_function,\n",
    "                                       args=args,\n",
    "                                       maxiter=maxiter,\n",
    "                                       full_output=True)\n",
    "\n",
    "Theta1 = nn_params[:hidden_layer_size*(input_layer_size + 1)]\n",
    "Theta1 = Theta1.reshape((hidden_layer_size, input_layer_size + 1))\n",
    "Theta2 = nn_params[hidden_layer_size*(input_layer_size + 1):]\n",
    "Theta2 = Theta2.reshape((num_labels, hidden_layer_size + 1))"
   ]
  },
  {
   "cell_type": "markdown",
   "id": "56b49166",
   "metadata": {
    "collapsed": false,
    "jupyter": {
     "outputs_hidden": false
    }
   },
   "source": [
    "## 模型预测"
   ]
  },
  {
   "cell_type": "code",
   "execution_count": 39,
   "id": "9caa4094",
   "metadata": {
    "collapsed": false,
    "jupyter": {
     "outputs_hidden": false
    }
   },
   "outputs": [
    {
     "name": "stdout",
     "output_type": "stream",
     "text": [
      "Training Set Accuracy: 96.3\n"
     ]
    }
   ],
   "source": [
    "# ================= Part 9: Implement Predict =================\n",
    "\n",
    "pred = predict(Theta1, Theta2, X)\n",
    "# print(pred.shape, y.shape)\n",
    "# print(np.hstack((pred, y)))\n",
    "\n",
    "print('Training Set Accuracy:', np.mean(pred == y[:, 0])*100.0)"
   ]
  }
 ],
 "metadata": {
  "jupytext": {
   "formats": "ipynb"
  },
  "kernelspec": {
   "display_name": "Python 3 (ipykernel)",
   "language": "python",
   "name": "python3"
  },
  "language_info": {
   "codemirror_mode": {
    "name": "ipython",
    "version": 3
   },
   "file_extension": ".py",
   "mimetype": "text/x-python",
   "name": "python",
   "nbconvert_exporter": "python",
   "pygments_lexer": "ipython3",
   "version": "3.12.4"
  }
 },
 "nbformat": 4,
 "nbformat_minor": 5
}
